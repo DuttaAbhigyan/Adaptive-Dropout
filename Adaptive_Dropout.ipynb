{
 "cells": [
  {
   "cell_type": "markdown",
   "metadata": {
    "colab_type": "text",
    "id": "HNv7l1Dd7ICA"
   },
   "source": [
    "# Introduction:\n",
    "\n",
    "In this Notebook we simulate the paper \n",
    "<a href=\"https://papers.nips.cc/paper/5032-adaptive-dropout-for-training-deep-neural-networks.pdf\">Adaptive dropout for training deep neural networks</a> by J Ba, et al. Forthe detailed explanation of the paper we can check the master's thesis by the same author here <a href=\"https://tspace.library.utoronto.ca/handle/1807/67873\">Adaptive dropout for training deep neural networks - Thesis</a>. The author has used Adaptive Dropout for the purpose of using it in Autoencoders, while here I will build a classifier using the Adaptive Dropout approach in <a href=\"https://pytorch.org/\">PyTorch</a>. \n",
    "\n",
    "The inspiration for the code comes from this GitHub repo: <a href=\"https://github.com/gngdb/adaptive-standout\">gngdb/adaptive-standout</a>. The program is written to be run on Google Colab, although you can modify it to run on your own setup."
   ]
  },
  {
   "cell_type": "markdown",
   "metadata": {
    "colab_type": "text",
    "id": "wHgjL7ym7ICD"
   },
   "source": [
    "## Installation:\n",
    "Since we are using Google Colab and PyTorch for our experiments we will first install the required package (PyTorch) by running the following command."
   ]
  },
  {
   "cell_type": "code",
   "execution_count": 1,
   "metadata": {
    "colab": {
     "base_uri": "https://localhost:8080/",
     "height": 119
    },
    "colab_type": "code",
    "id": "56vZpWK_7ICF",
    "outputId": "14482b60-7822-4c3d-ca9a-8ea41675ef42"
   },
   "outputs": [
    {
     "name": "stdout",
     "output_type": "stream",
     "text": [
      "Requirement already satisfied: torch in /usr/local/lib/python3.6/dist-packages (1.1.0)\n",
      "Requirement already satisfied: torchvision in /usr/local/lib/python3.6/dist-packages (0.3.0)\n",
      "Requirement already satisfied: numpy in /usr/local/lib/python3.6/dist-packages (from torch) (1.16.4)\n",
      "Requirement already satisfied: pillow>=4.1.1 in /usr/local/lib/python3.6/dist-packages (from torchvision) (4.3.0)\n",
      "Requirement already satisfied: six in /usr/local/lib/python3.6/dist-packages (from torchvision) (1.12.0)\n",
      "Requirement already satisfied: olefile in /usr/local/lib/python3.6/dist-packages (from pillow>=4.1.1->torchvision) (0.46)\n"
     ]
    }
   ],
   "source": [
    "!pip3 install torch torchvision"
   ]
  },
  {
   "cell_type": "markdown",
   "metadata": {
    "colab_type": "text",
    "id": "0CTo7wic7ICM"
   },
   "source": [
    "## Mounting the Google Drive:\n",
    "\n",
    "We moun the Google Drive for loading and saving our models with the following command."
   ]
  },
  {
   "cell_type": "code",
   "execution_count": null,
   "metadata": {
    "colab": {
     "base_uri": "https://localhost:8080/",
     "height": 122
    },
    "colab_type": "code",
    "id": "GwOiIy0y7ICO",
    "outputId": "752f21dc-a1b4-4c11-92f9-11d63eb14241"
   },
   "outputs": [],
   "source": [
    "from google.colab import drive\n",
    "drive.mount('/content/gdrive')"
   ]
  },
  {
   "cell_type": "markdown",
   "metadata": {
    "colab_type": "text",
    "id": "AHqWY2U47ICS"
   },
   "source": [
    "## Imports:\n",
    "Now we make all the necessary imports required to perform and visualize our experiment."
   ]
  },
  {
   "cell_type": "code",
   "execution_count": 0,
   "metadata": {
    "colab": {},
    "colab_type": "code",
    "id": "87LHSUcv7ICU"
   },
   "outputs": [],
   "source": [
    "import torch\n",
    "import torchvision\n",
    "import torchvision.transforms as transforms\n",
    "import torch.nn.functional as F\n",
    "import torch.nn as nn\n",
    "import torch.optim as optim\n",
    "import matplotlib.pyplot as plt"
   ]
  },
  {
   "cell_type": "markdown",
   "metadata": {
    "colab_type": "text",
    "id": "ms3ary5Q7ICX"
   },
   "source": [
    "## Using GPU for our program:\n",
    "Since, we want to use Google Colab's GPU we will use the following command to convert all tensors to CUDA type, as advised in this <a href=\"https://discuss.pytorch.org/t/solved-make-sure-that-pytorch-using-gpu-to-compute/4870\"> Make Sure That Pytorch Using GPU To Compute</a>. You want to skip this part if you are working on CPU."
   ]
  },
  {
   "cell_type": "code",
   "execution_count": 0,
   "metadata": {
    "colab": {},
    "colab_type": "code",
    "id": "mnbbmkeT7ICZ"
   },
   "outputs": [],
   "source": [
    "if(torch.cuda.is_available()):\n",
    "    torch.set_default_tensor_type('torch.cuda.FloatTensor')"
   ]
  },
  {
   "cell_type": "markdown",
   "metadata": {
    "colab_type": "text",
    "id": "BuJuB2iO7ICi"
   },
   "source": [
    "## Loading Datasets:\n",
    "\n",
    "We load the famous and standard <a href=\"http://yann.lecun.com/exdb/mnist/\">MNIST</a> dataset for our program. The MNIST dataset contains 50000 (50k) training examples and 10000 (10k) examples for testing. We split the Training Set into a Training dataset and a Validation dataset. We also keep the code for loading <a href=\"https://www.cs.toronto.edu/~kriz/cifar.html\">CIFAR10</a> and <a href=\"https://github.com/zalandoresearch/fashion-mnist\">Fashion MNIST</a> dataset."
   ]
  },
  {
   "cell_type": "code",
   "execution_count": 0,
   "metadata": {
    "colab": {},
    "colab_type": "code",
    "id": "9ao5TyAo7ICj"
   },
   "outputs": [],
   "source": [
    "# Dataset Loading\n",
    "\n",
    "# Smaller batch size causes slower loading of the entire dataset, but occupies less memory\n",
    "\n",
    "batch_train = 512   # Smaller batch size helps in faster convergence by introducing randomness\n",
    "batch_val = 1024\n",
    "batch_test = 1024   \n",
    "\n",
    "validation_set = 0.2 # This is the ratio of the training set used for validation\n",
    "\n",
    "# Create Train and Validation Data Loaders\n",
    "train_set = torchvision.datasets.MNIST(\n",
    "            root = '../data/MNIST',\n",
    "            train = True,\n",
    "            download = True,\n",
    "            transform = transforms.Compose([transforms.ToTensor()]))\n",
    "\"\"\"\n",
    "train_set = torchvision.datasets.CIFAR10(\n",
    "            root = '../data/cifar10',\n",
    "            train = True,\n",
    "            download = True,\n",
    "            transform = transforms.Compose([transforms.ToTensor()]))\"\"\"\n",
    "\"\"\"\n",
    "train_set = torchvision.datasets.FashionMNIST(\n",
    "            root = '../data/FMNIST',\n",
    "            train = True,\n",
    "            download = True,\n",
    "            transform = transforms.Compose([transforms.ToTensor()]))\"\"\"\n",
    "\n",
    "val_size = int(validation_set*len(train_set))\n",
    "train_size = len(train_set) - val_size\n",
    "train_set, val_set = torch.utils.data.random_split(train_set, [train_size, val_size])\n",
    "\n",
    "train_loader = torch.utils.data.DataLoader(train_set, batch_size = batch_train)\n",
    "val_loader = torch.utils.data.DataLoader(val_set, batch_size = batch_val)\n",
    "\n",
    "# Create the Test Loader\n",
    "test_set = torchvision.datasets.MNIST(\n",
    "            root = '../data/MNIST',\n",
    "            train = False,\n",
    "            download = True,\n",
    "            transform = transforms.Compose([transforms.ToTensor()]))\n",
    "\"\"\"\n",
    "test_set = torchvision.datasets.CIFAR10(\n",
    "            root = '../data/cifar10',\n",
    "            train = False,\n",
    "            download = True,\n",
    "            transform = transforms.Compose([transforms.ToTensor()]))\"\"\"\n",
    "\"\"\"\n",
    "test_set = torchvision.datasets.FashionMNIST(\n",
    "            root = '../data/FMNIST',\n",
    "            train = False,\n",
    "            download = True,\n",
    "            transform = transforms.Compose([transforms.ToTensor()]))\"\"\"\n",
    "\n",
    "test_loader = torch.utils.data.DataLoader(test_set, batch_size = batch_test)\n",
    "\n",
    "# To be used for training\n",
    "data_loaders = {}\n",
    "data_loaders['Train'] = train_loader\n",
    "data_loaders['Validation'] = val_loader"
   ]
  },
  {
   "cell_type": "markdown",
   "metadata": {
    "colab_type": "text",
    "id": "Tmk9A-877ICn"
   },
   "source": [
    "## Sampling Operation:\n",
    "Now we perform the sampling operation for the dropout. We pass a Tensor of __Retention Probabilities__ i.e the probability with which a node will be retained, and the function returns a Tensor of the same size as Retenetion Probabilities which we call the Mask. The Mask Tensor contains **0** and __1__ values where 1 indicates a node is retained and 0 indicates a node is dropped."
   ]
  },
  {
   "cell_type": "code",
   "execution_count": 0,
   "metadata": {
    "colab": {},
    "colab_type": "code",
    "id": "orZBVc3k7ICo"
   },
   "outputs": [],
   "source": [
    "def sample_mask(p):\n",
    "    r\"\"\"Given a Tensor of probabilities 'p' this function\n",
    "       will sample a mask nd return the mask (the probabilities are retention probabilities)\"\"\"\n",
    "    #Random Sampling\n",
    "    uniform = torch.Tensor(p.size()).uniform_(0, 1)\n",
    "    #Setting Mask\n",
    "    mask = uniform < p\n",
    "    #Setting proper Data Type\n",
    "    return mask.float()"
   ]
  },
  {
   "cell_type": "markdown",
   "metadata": {
    "colab_type": "text",
    "id": "39IZTNue7ICy"
   },
   "source": [
    "## Standout Layer:\n",
    "\n",
    "We define the Standout Layer here (as per Algorithm 2 in the original paper). It inherits from nn.Module class of PyTorch. The Standout Layer can easily be converted to a standard Dropout layer by setting paramaeter $\\alpha=0$ and $\\beta=0.5$ for a Dropout rate of $0.5$."
   ]
  },
  {
   "cell_type": "code",
   "execution_count": 0,
   "metadata": {
    "colab": {},
    "colab_type": "code",
    "id": "wtF40q4B7ICz"
   },
   "outputs": [],
   "source": [
    "class Standout(nn.Module):\n",
    "    r\"\"\"Defining the Standout Operation as per Algorithm 2\"\"\"\n",
    "    def __init__(self, previousWeights, alpha, beta, nonlinearity):\n",
    "        super(Standout, self).__init__()\n",
    "        self.pi = previousWeights\n",
    "        self.alpha = alpha\n",
    "        self.beta = beta\n",
    "        self.nonlinearity = nonlinearity # Sigmoid used in the original paper\n",
    "    \n",
    "    # Forward propagation via the layer\n",
    "    def forward(self, inputs, outputs):\n",
    "        self.p = self.nonlinearity(self.alpha*inputs.matmul(self.pi.t()) + self.beta)\n",
    "        if(self.training):\n",
    "            self.mask = sample_mask(self.p)\n",
    "            return self.mask*outputs\n",
    "        else:\n",
    "            return self.p*outputs"
   ]
  },
  {
   "cell_type": "markdown",
   "metadata": {
    "colab_type": "text",
    "id": "AkWWLOpB7IC4"
   },
   "source": [
    "## Neural Network Model:\n",
    "\n",
    "In this section we introduce two simple CNN models for the putpose of illustration for implementing the Adaptive Dropout algorithm. In both the cases for the convolutional layers we use the following scheme:\n",
    "\n",
    "$784$ $\\rightarrow$ $24$ filters with $(5,5)$ stride and padding $=2$ $\\rightarrow$ $(2,2)$ pooling with stride $=2$ $\\rightarrow$ $48$ filters with $(5,5)$ stride and padding $=2$ $\\rightarrow$ $(2,2)$ pooling with stride $=2$ $\\rightarrow$ $64$ filters with $(5,5)$ stride and padding $=2$ $\\rightarrow$ $(2,2)$ pooling with stride $=2$ $\\rightarrow$ Flatten to $576$ nodes.\n",
    "\n",
    "1. In the first case we use a CNN with only a single fully with $256$ nodes connected layer at the end, the Adaptive Dropout will be applied to this fully connected layer.\n",
    "\n",
    "2. In the second case we use a CNN with two fully connected layer, each with $256$ nodes, at the end, the Adaptive Dropout will be applied to this two fully connected layers."
   ]
  },
  {
   "cell_type": "code",
   "execution_count": 0,
   "metadata": {
    "colab": {},
    "colab_type": "code",
    "id": "jtpDpHH37IC5"
   },
   "outputs": [],
   "source": [
    "class Neural_Net(nn.Module):\n",
    "\n",
    "    def __init__(self):\n",
    "        super(Neural_Net, self).__init__()\n",
    "        # Convolutional Layers\n",
    "        self.conv1 = nn.Conv2d(1,24,5, padding = 2)\n",
    "        self.pool1 = nn.MaxPool2d(kernel_size=(2,2), stride=2)\n",
    "        self.conv2 = nn.Conv2d(24,48,5, padding = 2)\n",
    "        self.pool2 = nn.MaxPool2d(kernel_size=(2,2), stride=2)\n",
    "        self.conv3 = nn.Conv2d(48,64,5, padding = 2)\n",
    "        self.pool3 = nn.MaxPool2d(kernel_size=(2,2), stride=2)\n",
    "        \n",
    "        # Fully Connected Layers\n",
    "        self.fc1 = nn.Linear(576,256)\n",
    "        self.std1 = Standout(self.fc1.weight, 0.5, 0.5, nn.Sigmoid()) # Standout Layer 1\n",
    "        self.fc2 = nn.Linear(256, 256)\n",
    "        self.std2 = Standout(self.fc2.weight, 0.5, 0.5, nn.Sigmoid()) # Standout Layer 2\n",
    "        self.final = nn.Linear(256,10)\n",
    "\n",
    "    def forward(self, x):\n",
    "        # Convolutional Layers Forward Propagation\n",
    "        x = self.pool1(F.relu(self.conv1(x)))\n",
    "        x = self.pool2(F.relu(self.conv2(x)))\n",
    "        x = self.pool3(F.relu(self.conv3(x)))\n",
    "        x = x.view(-1, 576)\n",
    "        \n",
    "        # Fully Connected Layers Forward Propagation\n",
    "        inputs1 = x.clone().detach()\n",
    "        x = F.relu(self.fc1(x))\n",
    "        inputs2 = x.clone().detach()  # NOTE: We have to use the inputs of previous layer for Standout\n",
    "        x = self.std1(inputs1,x)\n",
    "        #x = F.relu(self.fc2(x))       # Comment out if you want to use single FC layer\n",
    "        #x = self.std2(inputs2, x)     # Comment out if you want to use single FC layer\n",
    "        x = self.final(x)\n",
    "        return x"
   ]
  },
  {
   "cell_type": "markdown",
   "metadata": {
    "colab_type": "text",
    "id": "zgqHYAe57IC-"
   },
   "source": [
    "## Training:\n",
    "\n",
    "Now we train the Neural Network with the loss function as the Binary Cross Entropy Loss, using a very simple (but unflexible) scheme, we use SGD with Momentum for the first 50 epochs and then the Adam optimizer for the next 50 epochs for a total of 100 epochs. The training algorithm shows the Training Loss, Training Accuracy, Validation Loss and Validation Accuracy for each epochs. It returns a list with average loss and accuracy for Training and Validation phases for the purpose of plotting it.\n",
    "\n",
    "**Hyperparameters** - You can tune the Hyperparamaters at the begining and also define variables to do so (I have excluded it since I have not fine tuned the model)."
   ]
  },
  {
   "cell_type": "code",
   "execution_count": 62,
   "metadata": {
    "colab": {
     "base_uri": "https://localhost:8080/",
     "height": 1000
    },
    "colab_type": "code",
    "id": "he8dlLGi7IDA",
    "outputId": "b6c84ecb-bf6a-452c-ee36-28751e2e59a3"
   },
   "outputs": [
    {
     "name": "stdout",
     "output_type": "stream",
     "text": [
      "Epoch: 1\n",
      "Loss for Train is 2.2858726344210036\n",
      "Accuracy for Train is 0.19583333333333333\n",
      "Loss for Validation is 2.235354006290436\n",
      "Accuracy for Validation is 0.45775\n",
      "\n",
      "Epoch: 2\n",
      "Loss for Train is 1.1602210129829162\n",
      "Accuracy for Train is 0.6634166666666667\n",
      "Loss for Validation is 0.343149575094382\n",
      "Accuracy for Validation is 0.8980833333333333\n",
      "\n",
      "Epoch: 3\n",
      "Loss for Train is 0.25987013128209624\n",
      "Accuracy for Train is 0.9179375\n",
      "Loss for Validation is 0.17378280932704607\n",
      "Accuracy for Validation is 0.94475\n",
      "\n",
      "Epoch: 4\n",
      "Loss for Train is 0.16732515965370423\n",
      "Accuracy for Train is 0.9470833333333334\n",
      "Loss for Validation is 0.1453044538696607\n",
      "Accuracy for Validation is 0.953\n",
      "\n",
      "Epoch: 5\n",
      "Loss for Train is 0.12465016290228417\n",
      "Accuracy for Train is 0.9608958333333333\n",
      "Loss for Validation is 0.09871997249623139\n",
      "Accuracy for Validation is 0.96825\n",
      "\n",
      "Epoch: 6\n",
      "Loss for Train is 0.18615993373888604\n",
      "Accuracy for Train is 0.9458541666666667\n",
      "Loss for Validation is 0.0904368522266547\n",
      "Accuracy for Validation is 0.9715\n",
      "\n",
      "Epoch: 7\n",
      "Loss for Train is 0.08544333382172788\n",
      "Accuracy for Train is 0.9730833333333333\n",
      "Loss for Validation is 0.07910643952588241\n",
      "Accuracy for Validation is 0.9746666666666667\n",
      "\n",
      "Epoch: 8\n",
      "Loss for Train is 0.06562445110621605\n",
      "Accuracy for Train is 0.9794166666666667\n",
      "Loss for Validation is 0.058179082038501896\n",
      "Accuracy for Validation is 0.9814166666666667\n",
      "\n",
      "Epoch: 9\n",
      "Loss for Train is 0.05375501727487179\n",
      "Accuracy for Train is 0.9828125\n",
      "Loss for Validation is 0.048958648617068924\n",
      "Accuracy for Validation is 0.9853333333333333\n",
      "\n",
      "Epoch: 10\n",
      "Loss for Train is 0.04443622858045583\n",
      "Accuracy for Train is 0.9857916666666666\n",
      "Loss for Validation is 0.042168361290047564\n",
      "Accuracy for Validation is 0.9871666666666666\n",
      "\n"
     ]
    },
    {
     "data": {
      "text/plain": [
       "([2.2858726344210036,\n",
       "  1.1602210129829162,\n",
       "  0.25987013128209624,\n",
       "  0.16732515965370423,\n",
       "  0.12465016290228417,\n",
       "  0.18615993373888604,\n",
       "  0.08544333382172788,\n",
       "  0.06562445110621605,\n",
       "  0.05375501727487179,\n",
       "  0.04443622858045583],\n",
       " [2.235354006290436,\n",
       "  0.343149575094382,\n",
       "  0.17378280932704607,\n",
       "  0.1453044538696607,\n",
       "  0.09871997249623139,\n",
       "  0.0904368522266547,\n",
       "  0.07910643952588241,\n",
       "  0.058179082038501896,\n",
       "  0.048958648617068924,\n",
       "  0.042168361290047564],\n",
       " [0.19583333333333333,\n",
       "  0.6634166666666667,\n",
       "  0.9179375,\n",
       "  0.9470833333333334,\n",
       "  0.9608958333333333,\n",
       "  0.9458541666666667,\n",
       "  0.9730833333333333,\n",
       "  0.9794166666666667,\n",
       "  0.9828125,\n",
       "  0.9857916666666666],\n",
       " [0.45775,\n",
       "  0.8980833333333333,\n",
       "  0.94475,\n",
       "  0.953,\n",
       "  0.96825,\n",
       "  0.9715,\n",
       "  0.9746666666666667,\n",
       "  0.9814166666666667,\n",
       "  0.9853333333333333,\n",
       "  0.9871666666666666])"
      ]
     },
     "execution_count": 62,
     "metadata": {
      "tags": []
     },
     "output_type": "execute_result"
    }
   ],
   "source": [
    "# Initializing the Neural Net and all the Hyperparamters\n",
    "net = Neural_Net()\n",
    "if(torch.cuda.is_available()):\n",
    "    net.cuda()\n",
    "\n",
    "criterion = nn.CrossEntropyLoss()\n",
    "optimizer1 = optim.SGD(net.parameters(), lr = 0.01, momentum= 0.9)\n",
    "optimizer2 = optim.Adam(net.parameters(), lr = 0.001)\n",
    "epochs1 = 5\n",
    "epochs2 = 5\n",
    "\n",
    "# Lists required for plotting the final results\n",
    "lossT = []\n",
    "lossCV = []\n",
    "accCV = []\n",
    "accT = []\n",
    "\n",
    "# Function to train the model\n",
    "def train(epochs1, epochs2, data_loaders):\n",
    "    # Running with the SGD with momentum optimizer\n",
    "    for i in range(epochs1):\n",
    "        print('Epoch: ' + str(i+1))\n",
    "        for phase in ['Train', 'Validation']:\n",
    "            \n",
    "            #Total predictions and Correct predictions set to 0\n",
    "            total = 0\n",
    "            correct = 0\n",
    "\n",
    "            #Running loss  set to 0\n",
    "            running_loss = 0.0\n",
    "\n",
    "            # Number of minibatches \n",
    "            # NOTE: Even though the batch size might not be uniform,\n",
    "            # we approximate it as all batches are of equal size\n",
    "            k = len(data_loaders[phase])\n",
    "            \n",
    "            if phase == 'Train':\n",
    "                net.train(True)  # Set model to training mode\n",
    "            else:\n",
    "                net.train(False) # Set model to validation mode\n",
    "\n",
    "            # Iterate through the batches             \n",
    "            for data in data_loaders[phase]:\n",
    "                images,labels = data\n",
    "                if(torch.cuda.is_available()):\n",
    "                    labels = labels.long().cuda()\n",
    "                    images = images.cuda()\n",
    "                else:\n",
    "                    labels = labels.long()\n",
    "                outputs = net.forward(images)\n",
    "\n",
    "                loss = criterion(outputs, labels)\n",
    "                optimizer1.zero_grad()\n",
    "\n",
    "                # Backprop + optimize only if in training phase\n",
    "                if phase == 'Train':\n",
    "                    loss.backward()\n",
    "                    # Update the weights\n",
    "                    optimizer1.step()\n",
    "                running_loss += loss.item()\n",
    "\n",
    "                #Check predictions\n",
    "                _, predicted = torch.max(outputs.data,1)\n",
    "                total += labels.size(0)                  # length of each batch added\n",
    "                correct += (predicted == labels).sum().item()\n",
    "\n",
    "        \n",
    "            epoch_loss = running_loss/k\n",
    "            epoch_acc = correct/total\n",
    "            if(phase == 'Train'):\n",
    "                lossT.append(epoch_loss)\n",
    "                accT.append(epoch_acc)\n",
    "            elif(phase == 'Validation'):\n",
    "                lossCV.append(epoch_loss)\n",
    "                accCV.append(epoch_acc)\n",
    "\n",
    "            # Print for showing  loss and accuracy                          \n",
    "            print('Loss for ' + phase + ' is ' + str(epoch_loss))\n",
    "            print('Accuracy for ' + phase + ' is ' + str(epoch_acc)) \n",
    "        print()\n",
    "\n",
    "    # Running with the Adam optimizer\n",
    "    for i in range(epochs2):\n",
    "        print('Epoch: ' + str(i+1+epochs1))\n",
    "        for phase in ['Train', 'Validation']:\n",
    "            \n",
    "            #Total predictions and Correct predictions set to 0\n",
    "            total = 0\n",
    "            correct = 0\n",
    "\n",
    "            #Running loss  set to 0\n",
    "            running_loss = 0.0\n",
    "\n",
    "            # Number of minibatches \n",
    "            # NOTE: Even though the batch size might not be uniform,\n",
    "            # we approximate it as all batches are of equal size\n",
    "            k = len(data_loaders[phase])\n",
    "            \n",
    "            if phase == 'Train':\n",
    "                net.train(True)  # Set model to training mode\n",
    "            else:\n",
    "                net.train(False) # Set model to validation mode\n",
    "\n",
    "            # Iterate through the batches             \n",
    "            for data in data_loaders[phase]:\n",
    "                images,labels = data\n",
    "                if(torch.cuda.is_available()):\n",
    "                    labels = labels.long().cuda()\n",
    "                    images = images.cuda()\n",
    "                else:\n",
    "                    labels = labels.long()\n",
    "                outputs = net.forward(images)\n",
    "\n",
    "                loss = criterion(outputs, labels)\n",
    "                optimizer2.zero_grad()\n",
    "\n",
    "                # Backprop + optimize only if in training phase\n",
    "                if phase == 'Train':\n",
    "                    loss.backward()\n",
    "                    # Update the weights\n",
    "                    optimizer2.step()\n",
    "                running_loss += loss.item()\n",
    "\n",
    "                #Check predictions\n",
    "                _, predicted = torch.max(outputs.data,1)\n",
    "                total += labels.size(0)                  # length of each batch added\n",
    "                correct += (predicted == labels).sum().item()\n",
    "\n",
    "        \n",
    "            epoch_loss = running_loss/k\n",
    "            epoch_acc = correct/total\n",
    "            if(phase == 'Train'):\n",
    "                lossT.append(epoch_loss)\n",
    "                accT.append(epoch_acc)\n",
    "            elif(phase == 'Validation'):\n",
    "                lossCV.append(epoch_loss)\n",
    "                accCV.append(epoch_acc)\n",
    "\n",
    "            # Print for showing loss and accuracy                 \n",
    "            print('Loss for ' + phase + ' is ' + str(epoch_loss))\n",
    "            print('Accuracy for ' + phase + ' is ' + str(epoch_acc)) \n",
    "        print()\n",
    "    return lossT, lossCV, accT, accCV\n",
    "\n",
    "train(epochs1, epochs2, data_loaders)"
   ]
  },
  {
   "cell_type": "markdown",
   "metadata": {
    "colab_type": "text",
    "id": "KNtkkkkp7IDE"
   },
   "source": [
    "## Plotting:\n",
    "\n",
    "We now plot the loss and accuracy of our training, on the Training and Validation set.\n"
   ]
  },
  {
   "cell_type": "code",
   "execution_count": 0,
   "metadata": {
    "colab": {},
    "colab_type": "code",
    "id": "3Pzlux8-7IDF"
   },
   "outputs": [],
   "source": [
    "%matplotlib inline"
   ]
  },
  {
   "cell_type": "code",
   "execution_count": 64,
   "metadata": {
    "colab": {
     "base_uri": "https://localhost:8080/",
     "height": 567
    },
    "colab_type": "code",
    "id": "UfrP8To37IDI",
    "outputId": "d728f2d0-1206-4c19-de42-9db89a4dde26"
   },
   "outputs": [
    {
     "data": {
      "text/plain": [
       "Text(0, 0.5, 'Epochs')"
      ]
     },
     "execution_count": 64,
     "metadata": {
      "tags": []
     },
     "output_type": "execute_result"
    },
    {
     "data": {
      "image/png": "[encoded data removed]",
      "text/plain": [
       "<Figure size 1600x640 with 2 Axes>"
      ]
     },
     "metadata": {
      "tags": []
     },
     "output_type": "display_data"
    }
   ],
   "source": [
    "epochs = list(range(epochs1+epochs2))\n",
    "fig=plt.figure(figsize=(20, 8), dpi= 80, facecolor='w', edgecolor='k')\n",
    "# Plotting Loss\n",
    "plt.subplot(1, 2, 1)\n",
    "plt.plot(epochs, lossT, epochs, lossCV)\n",
    "plt.title('Plot for Loss')\n",
    "plt.ylabel('Loss')\n",
    "plt.ylabel('Epochs')\n",
    "\n",
    "#Plotting Accuracy\n",
    "plt.subplot(1, 2, 2)\n",
    "plt.plot(epochs, accT, epochs, accCV)\n",
    "plt.title('Plot for Accuracy')\n",
    "plt.ylabel('Accuracy')\n",
    "plt.ylabel('Epochs')\n",
    "\n"
   ]
  },
  {
   "cell_type": "markdown",
   "metadata": {
    "colab_type": "text",
    "id": "G0k9ZuOe7IDL"
   },
   "source": [
    "## Saving the model:\n",
    "\n",
    "We save the PyTorch model for future use and for testing it on the Test set."
   ]
  },
  {
   "cell_type": "code",
   "execution_count": 0,
   "metadata": {
    "colab": {},
    "colab_type": "code",
    "id": "Jk4_KEcw7IDL"
   },
   "outputs": [],
   "source": [
    "save_name = 'ada_drop_classifier.pt'\n",
    "path = F\"/content/gdrive/My Drive/Adaptive Dropout/{save_name}\" \n",
    "torch.save(net.state_dict(), path)"
   ]
  },
  {
   "cell_type": "markdown",
   "metadata": {
    "colab_type": "text",
    "id": "DzdJN14s7IDP"
   },
   "source": [
    "## Loading the model:\n",
    "\n",
    "We load the model for inference."
   ]
  },
  {
   "cell_type": "code",
   "execution_count": 66,
   "metadata": {
    "colab": {
     "base_uri": "https://localhost:8080/",
     "height": 34
    },
    "colab_type": "code",
    "id": "YSa6wXXd7IDQ",
    "outputId": "406a0094-f9ef-479a-b289-d5d9d9f7d856"
   },
   "outputs": [
    {
     "data": {
      "text/plain": [
       "IncompatibleKeys(missing_keys=[], unexpected_keys=[])"
      ]
     },
     "execution_count": 66,
     "metadata": {
      "tags": []
     },
     "output_type": "execute_result"
    }
   ],
   "source": [
    "save_name = 'ada_drop_classifier.pt'\n",
    "path = F\"/content/gdrive/My Drive/Adaptive Dropout/{save_name}\"\n",
    "net = Neural_Net()\n",
    "net.load_state_dict(torch.load(path))"
   ]
  },
  {
   "cell_type": "markdown",
   "metadata": {
    "colab_type": "text",
    "id": "Tr9edwcd7IDT"
   },
   "source": [
    "## Perform Inference on the Test set:\n",
    "\n",
    "We now perform inference on the Test Set."
   ]
  },
  {
   "cell_type": "code",
   "execution_count": 68,
   "metadata": {
    "colab": {
     "base_uri": "https://localhost:8080/",
     "height": 34
    },
    "colab_type": "code",
    "id": "MWpEb42y7IDU",
    "outputId": "7587fee7-e48b-4d7c-e218-66aee4f60023"
   },
   "outputs": [
    {
     "name": "stdout",
     "output_type": "stream",
     "text": [
      "Accuracy for Test Set is 0.9888\n"
     ]
    }
   ],
   "source": [
    "net.eval()\n",
    "def test(test_loader):\n",
    "    #Total predictions and Correct predictions set to 0\n",
    "    total=0\n",
    "    correct=0\n",
    "    # Iterate through the batches             \n",
    "    for data in test_loader:\n",
    "        images, labels = data\n",
    "        if(torch.cuda.is_available()):\n",
    "          labels = labels.long().cuda()\n",
    "          images = images.cuda()\n",
    "        else:\n",
    "          labels = labels.long()\n",
    "        outputs = net.forward(images)\n",
    "\n",
    "        #Check predictions\n",
    "        _, predicted = torch.max(outputs.data,1)\n",
    "        total += labels.size(0)                  # length of each batch added\n",
    "        correct += (predicted == labels).sum().item()\n",
    "    print(\"Accuracy for Test Set is \" + str(correct/total))\n",
    "\n",
    "test(test_loader)"
   ]
  }
 ],
 "metadata": {
  "accelerator": "GPU",
  "colab": {
   "name": "test_jup.ipynb",
   "provenance": [],
   "toc_visible": true,
   "version": "0.3.2"
  },
  "kernelspec": {
   "display_name": "Python 3",
   "language": "python",
   "name": "python3"
  },
  "language_info": {
   "codemirror_mode": {
    "name": "ipython",
    "version": 3
   },
   "file_extension": ".py",
   "mimetype": "text/x-python",
   "name": "python",
   "nbconvert_exporter": "python",
   "pygments_lexer": "ipython3",
   "version": "3.7.3"
  }
 },
 "nbformat": 4,
 "nbformat_minor": 1
}
